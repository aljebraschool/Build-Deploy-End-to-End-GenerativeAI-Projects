{
 "cells": [
  {
   "cell_type": "code",
   "execution_count": 1,
   "metadata": {},
   "outputs": [
    {
     "name": "stdout",
     "output_type": "stream",
     "text": [
      "True\n"
     ]
    }
   ],
   "source": [
    "#function to implement palindrome\n",
    "def palindrome(string):\n",
    "    string.lower().replace(\" \", \"\")\n",
    "    return string == string[::-1]\n",
    "\n",
    "print(palindrome(\"racecar\"))\n"
   ]
  },
  {
   "cell_type": "code",
   "execution_count": 8,
   "metadata": {},
   "outputs": [
    {
     "name": "stdout",
     "output_type": "stream",
     "text": [
      "720\n"
     ]
    }
   ],
   "source": [
    "def factorial(number):\n",
    "    product = 1\n",
    "    for i in range(1, number +1):\n",
    "        if number == 0:\n",
    "            return 1\n",
    "        product *= number\n",
    "        number -= 1\n",
    "\n",
    "    return product\n",
    "\n",
    "print(factorial(6))"
   ]
  },
  {
   "cell_type": "code",
   "execution_count": 28,
   "metadata": {},
   "outputs": [],
   "source": [
    "def read_file(file_path):\n",
    "    word_count = {}\n",
    "    try:\n",
    "        with open (file_path, \"r\") as file:\n",
    "            for line in file:\n",
    "                words = line.split()\n",
    "                for word in words:\n",
    "                    # The issue is here - we're splitting the word after lowercasing it\n",
    "                    # word = word.lower().split() # This makes word a list, can't be used as dict key\n",
    "                    # Instead, we should just lowercase and strip punctuation\n",
    "                    word = word.lower().strip('.,?!')\n",
    "                    word_count[word] = word_count.get(word, 0) + 1\n",
    "\n",
    "        return word_count\n",
    "    except FileNotFoundError:\n",
    "        print(f\"Error : {file_path} not found\")\n",
    "        return {}\n",
    "    except Exception as e:\n",
    "        print(f\"Error reading file: {e}\")\n",
    "        return {}\n",
    "\n",
    "\n"
   ]
  },
  {
   "cell_type": "code",
   "execution_count": 29,
   "metadata": {},
   "outputs": [
    {
     "name": "stdout",
     "output_type": "stream",
     "text": [
      "{'hello': 2, 'how': 1, 'are': 2, 'you': 2, 'i': 3, 'hope': 1, 'doing': 1, 'well': 1, 'my': 1, 'name': 1, 'is': 1, 'aljebra': 1, 'and': 1, 'love': 1, 'coding': 1, 'can': 1, 'be': 1, 'your': 1, 'friend': 1}\n"
     ]
    }
   ],
   "source": [
    "file_path = \"sample_text.txt\"\n",
    "\n",
    "word_count = read_file(file_path)\n",
    "\n",
    "print(word_count)"
   ]
  },
  {
   "cell_type": "code",
   "execution_count": 32,
   "metadata": {},
   "outputs": [
    {
     "name": "stdout",
     "output_type": "stream",
     "text": [
      "27\n"
     ]
    }
   ],
   "source": [
    "#creating a lambda function\n",
    "power = lambda a, b: a ** b\n",
    "\n",
    "print(power(3, 3))"
   ]
  },
  {
   "cell_type": "code",
   "execution_count": 34,
   "metadata": {},
   "outputs": [
    {
     "name": "stdout",
     "output_type": "stream",
     "text": [
      "False\n"
     ]
    }
   ],
   "source": [
    "even_number = lambda a : a % 2 == 0\n",
    "\n",
    "print(even_number(31))"
   ]
  },
  {
   "cell_type": "code",
   "execution_count": 40,
   "metadata": {},
   "outputs": [],
   "source": [
    "numbers = [1, 2, 3, 4, 5]\n",
    "\n",
    "def square_number(numbers):\n",
    "    return [number** 2 for number in numbers ]"
   ]
  },
  {
   "cell_type": "code",
   "execution_count": 41,
   "metadata": {},
   "outputs": [
    {
     "data": {
      "text/plain": [
       "[1, 4, 9, 16, 25]"
      ]
     },
     "execution_count": 41,
     "metadata": {},
     "output_type": "execute_result"
    }
   ],
   "source": [
    "square_number(numbers)"
   ]
  },
  {
   "cell_type": "code",
   "execution_count": 44,
   "metadata": {},
   "outputs": [
    {
     "data": {
      "text/plain": [
       "[1, 4, 9, 16, 25]"
      ]
     },
     "execution_count": 44,
     "metadata": {},
     "output_type": "execute_result"
    }
   ],
   "source": [
    "list(map(lambda x : x * x, numbers))"
   ]
  },
  {
   "cell_type": "code",
   "execution_count": 45,
   "metadata": {},
   "outputs": [
    {
     "data": {
      "text/plain": [
       "[5, 7, 9]"
      ]
     },
     "execution_count": 45,
     "metadata": {},
     "output_type": "execute_result"
    }
   ],
   "source": [
    "number_1 = [1, 2, 3]\n",
    "number_2 = [4, 5, 6]\n",
    "\n",
    "addition = list(map(lambda a, b : a + b, number_1, number_2))\n",
    "\n",
    "addition"
   ]
  },
  {
   "cell_type": "code",
   "execution_count": 72,
   "metadata": {},
   "outputs": [],
   "source": [
    "def even_or_odd(number):\n",
    "    if number % 2 == 0:\n",
    "        print(f\"Even : \", number)\n",
    "    "
   ]
  },
  {
   "cell_type": "code",
   "execution_count": 73,
   "metadata": {},
   "outputs": [
    {
     "name": "stdout",
     "output_type": "stream",
     "text": [
      "Even :  2\n",
      "Even :  6\n"
     ]
    }
   ],
   "source": [
    "result = list(filter(even_or_odd, numbers))"
   ]
  },
  {
   "cell_type": "code",
   "execution_count": 68,
   "metadata": {},
   "outputs": [
    {
     "data": {
      "text/plain": [
       "[2, 6]"
      ]
     },
     "execution_count": 68,
     "metadata": {},
     "output_type": "execute_result"
    }
   ],
   "source": [
    "numbers = [1, 2, 3, 5, 6]\n",
    "result = list(filter(lambda x : x % 2 == 0, numbers))"
   ]
  },
  {
   "cell_type": "code",
   "execution_count": 74,
   "metadata": {},
   "outputs": [
    {
     "name": "stdout",
     "output_type": "stream",
     "text": [
      "Hello world!\n",
      "my name is Ridwan Ibidunni\n",
      "I love programming in Python\n",
      "Coding is my passion\n"
     ]
    }
   ],
   "source": [
    "#Reading the whole file \n",
    "with open(\"example.txt\", 'r') as file:\n",
    "    content = file.read()\n",
    "    print(content)"
   ]
  },
  {
   "cell_type": "code",
   "execution_count": 87,
   "metadata": {},
   "outputs": [
    {
     "name": "stdout",
     "output_type": "stream",
     "text": [
      "Hello world!\n",
      "my name is Ridwan Ibidunni\n",
      "I love programming in Python\n",
      "Coding is my passion\n"
     ]
    }
   ],
   "source": [
    "#Read file line by line\n",
    "with open(\"example.txt\", 'r') as file:\n",
    "    for line in file:\n",
    "        print(line.strip())\n",
    "        \n"
   ]
  },
  {
   "cell_type": "code",
   "execution_count": 89,
   "metadata": {},
   "outputs": [],
   "source": [
    "#overwritting a file \n",
    "with open(\"example.txt\", 'w') as file:\n",
    "    file.write(\"I have overwritten on this file\\n\")\n",
    "    file.write(\"This will erase all the content of the file\")"
   ]
  },
  {
   "cell_type": "code",
   "execution_count": 90,
   "metadata": {},
   "outputs": [],
   "source": [
    "#writing in file without overwriting\n",
    "with open(\"example.txt\", 'a') as file:\n",
    "    file.write(\"\\nAdding more text to the file without overwriting it!\")"
   ]
  },
  {
   "cell_type": "code",
   "execution_count": 92,
   "metadata": {},
   "outputs": [],
   "source": [
    "#writing multiple lines in a file\n",
    "lines = ['\\nfile line\\n ', ' second line\\n', 'third lines']\n",
    "with open(\"example.txt\", \"a\") as file:\n",
    "    file.writelines(lines)\n",
    "\n"
   ]
  },
  {
   "cell_type": "code",
   "execution_count": 94,
   "metadata": {},
   "outputs": [],
   "source": [
    "#how to read from one file and write it in another file\n",
    "\n",
    "with open(\"example.txt\", 'r') as source_file:\n",
    "    read_file = source_file.read()\n",
    "\n",
    "with open(\"destination.txt\", 'a') as destination_file:\n",
    "    destination_file.write(read_file)"
   ]
  },
  {
   "cell_type": "code",
   "execution_count": 95,
   "metadata": {},
   "outputs": [
    {
     "name": "stdout",
     "output_type": "stream",
     "text": [
      "Creating new content for a file\n",
      "This is a new line\n"
     ]
    }
   ],
   "source": [
    "# how to read and write on the same file\n",
    "\n",
    "with open(\"example.txt\", \"w+\") as file:\n",
    "    file.write(\"Creating new content for a file\")\n",
    "    file.write(\"\\nThis is a new line\")\n",
    "\n",
    "    #to read from the file take the cursor to the begining \n",
    "    file.seek(0)\n",
    "\n",
    "    content = file.read()\n",
    "    print(content)"
   ]
  },
  {
   "cell_type": "code",
   "execution_count": 98,
   "metadata": {},
   "outputs": [
    {
     "name": "stdout",
     "output_type": "stream",
     "text": [
      "The path exits\n"
     ]
    }
   ],
   "source": [
    "import os\n",
    "path = os.path.exists(\"example.txt\")\n",
    "\n",
    "if path:\n",
    "    print(f\"The path exits\")\n",
    "\n",
    "\n"
   ]
  },
  {
   "cell_type": "code",
   "execution_count": 100,
   "metadata": {},
   "outputs": [
    {
     "data": {
      "text/plain": [
       "'folder/file'"
      ]
     },
     "execution_count": 100,
     "metadata": {},
     "output_type": "execute_result"
    }
   ],
   "source": [
    "folder_path = \"folder\"\n",
    "file_path = \"file\"\n",
    "\n",
    "full_path = os.path.join(folder_path, file_path)\n",
    "\n",
    "full_path"
   ]
  },
  {
   "cell_type": "code",
   "execution_count": 12,
   "metadata": {},
   "outputs": [],
   "source": [
    "def division():\n",
    "    \n",
    "    try:\n",
    "        num1 = int(input(\"enter the numerator\"))\n",
    "        num2 = int(input(\"enter the denominator\"))\n",
    "        division = num1 / num2\n",
    "        return division\n",
    "    except ZeroDivisionError:\n",
    "        print(\"Division by zero is not allowed\")\n",
    "    except ValueError:\n",
    "        print(\"Enter a valid number\")\n",
    "    "
   ]
  },
  {
   "cell_type": "code",
   "execution_count": 13,
   "metadata": {},
   "outputs": [
    {
     "name": "stdout",
     "output_type": "stream",
     "text": [
      "Enter a valid number\n"
     ]
    }
   ],
   "source": [
    "division()"
   ]
  },
  {
   "cell_type": "code",
   "execution_count": null,
   "metadata": {},
   "outputs": [],
   "source": []
  }
 ],
 "metadata": {
  "kernelspec": {
   "display_name": "venv",
   "language": "python",
   "name": "python3"
  },
  "language_info": {
   "codemirror_mode": {
    "name": "ipython",
    "version": 3
   },
   "file_extension": ".py",
   "mimetype": "text/x-python",
   "name": "python",
   "nbconvert_exporter": "python",
   "pygments_lexer": "ipython3",
   "version": "3.12.3"
  }
 },
 "nbformat": 4,
 "nbformat_minor": 2
}
