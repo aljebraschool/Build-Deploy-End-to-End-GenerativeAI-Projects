{
 "cells": [
  {
   "cell_type": "code",
   "execution_count": 1,
   "metadata": {},
   "outputs": [],
   "source": [
    "import pandas as pd\n"
   ]
  },
  {
   "cell_type": "code",
   "execution_count": 2,
   "metadata": {},
   "outputs": [],
   "source": [
    "train_data = pd.read_csv('/home/aljebra/GenerativeAI Projects/python-codes/NLP/vectorization/(bow)labeledTrainData.csv', header=0, delimiter=\"\\t\", quoting=3)"
   ]
  },
  {
   "cell_type": "code",
   "execution_count": 3,
   "metadata": {},
   "outputs": [
    {
     "data": {
      "text/plain": [
       "(25000, 3)"
      ]
     },
     "execution_count": 3,
     "metadata": {},
     "output_type": "execute_result"
    }
   ],
   "source": [
    "train_data.shape"
   ]
  },
  {
   "cell_type": "code",
   "execution_count": 10,
   "metadata": {},
   "outputs": [
    {
     "data": {
      "text/html": [
       "<div>\n",
       "<style scoped>\n",
       "    .dataframe tbody tr th:only-of-type {\n",
       "        vertical-align: middle;\n",
       "    }\n",
       "\n",
       "    .dataframe tbody tr th {\n",
       "        vertical-align: top;\n",
       "    }\n",
       "\n",
       "    .dataframe thead th {\n",
       "        text-align: right;\n",
       "    }\n",
       "</style>\n",
       "<table border=\"1\" class=\"dataframe\">\n",
       "  <thead>\n",
       "    <tr style=\"text-align: right;\">\n",
       "      <th></th>\n",
       "      <th>sentiment</th>\n",
       "      <th>review</th>\n",
       "    </tr>\n",
       "  </thead>\n",
       "  <tbody>\n",
       "    <tr>\n",
       "      <th>6868</th>\n",
       "      <td>0</td>\n",
       "      <td>\"I read that \\\"There's a Girl in My Soup\\\" cam...</td>\n",
       "    </tr>\n",
       "    <tr>\n",
       "      <th>24016</th>\n",
       "      <td>1</td>\n",
       "      <td>\"This film pulls you in from the get-go becaus...</td>\n",
       "    </tr>\n",
       "    <tr>\n",
       "      <th>9668</th>\n",
       "      <td>0</td>\n",
       "      <td>\"From the awful death scenes to guns that fire...</td>\n",
       "    </tr>\n",
       "    <tr>\n",
       "      <th>13640</th>\n",
       "      <td>1</td>\n",
       "      <td>\"I saw that movie few days ago. This movie is ...</td>\n",
       "    </tr>\n",
       "    <tr>\n",
       "      <th>14018</th>\n",
       "      <td>0</td>\n",
       "      <td>\"For a film with so much promise it was disapp...</td>\n",
       "    </tr>\n",
       "  </tbody>\n",
       "</table>\n",
       "</div>"
      ],
      "text/plain": [
       "       sentiment                                             review\n",
       "6868           0  \"I read that \\\"There's a Girl in My Soup\\\" cam...\n",
       "24016          1  \"This film pulls you in from the get-go becaus...\n",
       "9668           0  \"From the awful death scenes to guns that fire...\n",
       "13640          1  \"I saw that movie few days ago. This movie is ...\n",
       "14018          0  \"For a film with so much promise it was disapp..."
      ]
     },
     "execution_count": 10,
     "metadata": {},
     "output_type": "execute_result"
    }
   ],
   "source": [
    "train_data.head()"
   ]
  },
  {
   "cell_type": "markdown",
   "metadata": {},
   "source": [
    "### Data cleaning and preprocessing"
   ]
  },
  {
   "cell_type": "code",
   "execution_count": 18,
   "metadata": {},
   "outputs": [
    {
     "name": "stderr",
     "output_type": "stream",
     "text": [
      "[nltk_data] Downloading package stopwords to\n",
      "[nltk_data]     /home/aljebra/nltk_data...\n",
      "[nltk_data]   Package stopwords is already up-to-date!\n"
     ]
    },
    {
     "data": {
      "text/plain": [
       "True"
      ]
     },
     "execution_count": 18,
     "metadata": {},
     "output_type": "execute_result"
    }
   ],
   "source": [
    "import re\n",
    "import nltk\n",
    "from nltk.corpus import stopwords\n",
    "from nltk.stem import WordNetLemmatizer\n",
    "from sklearn.feature_extraction.text import TfidfVectorizer\n",
    "nltk.download('stopwords')\n"
   ]
  },
  {
   "cell_type": "code",
   "execution_count": 11,
   "metadata": {},
   "outputs": [],
   "source": [
    "# Define the fraction of the dataset to use (e.g., 10%)\n",
    "fraction = 0.10 \n",
    "\n",
    "# Calculate the number of rows to use\n",
    "num_rows = int(len(train_data) * fraction)\n",
    "\n",
    "# Select a random sample of rows\n",
    "train_data = train_data.sample(n=num_rows, random_state=42) "
   ]
  },
  {
   "cell_type": "code",
   "execution_count": 12,
   "metadata": {},
   "outputs": [],
   "source": [
    "lematization = WordNetLemmatizer()"
   ]
  },
  {
   "cell_type": "code",
   "execution_count": 14,
   "metadata": {},
   "outputs": [],
   "source": [
    "processed_word = []\n",
    "\n",
    "for sentence in train_data.index:\n",
    "    review = re.sub('[^a-zA-Z]', \" \", train_data.loc[sentence, 'review'])\n",
    "    review = review.split()\n",
    "    lemmatized_word = [lematization.lemmatize(word.lower()) for word in review if word not in stopwords.words('english')]\n",
    "    processed_word.append(\" \".join(lemmatized_word))\n",
    "\n"
   ]
  },
  {
   "cell_type": "code",
   "execution_count": 16,
   "metadata": {},
   "outputs": [
    {
     "data": {
      "text/plain": [
       "['a cry dark masterful piece cinema haunting incredibly though provoking the true story lindy chamberland witnessed horrific sight seeing month old baby brutally taken family tent camping austrailian outback azaria baby never seen result horrendous disappearance caused true life frenzy around world meryl streep immaculate justice role lindy always but one thing help a cry dark never fall flat brilliant direction a truly inspired accurate outlook baffeling case tear brought eye the concept nothing less terrifying afterwards left haunted also inspired',\n",
       " 'in dalmatian cruella de vil arrested london metropolitain police god bless attempting steal murder puppy dalmatian all covered mud hay spent next year tin now year later unfortunately released jail i say year dog year br br so disney decided release sequel successful live action version classic film hereby dubbed dalmatian in nd dalmatian added family oddball name i think i know since shown tv recently puppy spot also cruella played glenn close escaped wanted bigger better coat made puppy br br i especially liked theme song i sure everybody love atomic dog song and hear bit movie br br dalmatian great film i keep wondering when will there be a dalmatian lol br br star',\n",
       " 'the dream child fifth film generally overrated nightmare series latest point series became total garbage the good film series wes craven original third part the dream warrior the second part disappointing boring fourth part formerly scary madman freddy krueger began annoy constant idiotic joke this fifth entry series hardly anything recommend except admittedly great visuals one creepy scene flashback sequence freddy krueger came existence the rest film consists mainly razor clawed maniac turned jokester yelling stupid one liner old formula bunch teenage jackass desperately try avoid falling asleep good old freddy awaits dream lisa wilcox back role alice johnson bunch uninteresting crap super dumb eerie child rhyme added reason sort justification making superfluous boring sequel in short no originality decline old formula load painfully annoying joke my generous rating due great visuals especially emphasize difference terrible next sequel freddy dead awful beyond belief in case hardcore freddy krueger enthusiast the dream child avoided even likely disappoint',\n",
       " 'i could believe low rating imdb johnny dangerously moment i wrote review i thought i something promote memorable piece comedy much i seriously get rating low people voted must limited sense humor mention shallow opened mind if like humorous flick watch combining absurd humour good storytelling outstanding pace given multiple running gag movie made way dvd collection and without mentioning visual farce embedded course use clin oeils clich based favorite organized crime movie br br i showed movie lot people introduced without specific expectation except maybe watching comedy state mind watch movie opinion liked much it go well long watch absolutely slowing down evolution story i think really straightforward sure perfect gag fall bit short movie perfect especially considering opinion that i rated movie this movie opinion precursor like top secret spaceballs field absurd well thought comedy which nowadays absurd cutting thought ingeniosity side sometimes gag need culture lot people imagine understood correctly a final word i would like say watch follow average joe saying like know real good taste understandable unlikely opinion',\n",
       " 'following directly story left part one second half set telling inevitable downfall much grim side man legacy exactly in direct contrast first feature part two represents shift che pride glory revolutionised country che struggling liberator country previous tie the change setting aesthetic autumn spring grey woodland come change tone heart feature replacing optimism predecessor cynical battered bruised reality aligned new struggle yet che would go say struggle best told exactly struggle while part one certainly helped document initial surge power revolutionary guerrilla acquired part two take much refined callous bleak segment che life ambition give assertive portrayal poignant tragic tangible easy grasp manner br br while movie tone regard stray differ quite drastically part one however still remains documented approach taken month ago avoids melodrama fabrication much possible this somewhat distant cold approach telling che story struggle doubt turn viewer indeed i still remain reserved whether feature named one man anything entirety che taken whole delivers tale go beyond mere biography instead document man struggle alongside helped carry along way by mean soderbergh try paint humanistic portrait akin hirschbiegel der untergang half decade ago excuse ironic contrast che slow moving reserved meditative approach telling history lesson happens narrated one man arguably conducted whole thing br br yet moving lush green landscape cuba retreating bleak decaying backdrop bolivia part two story inevitably take distinctly contrasting tone feel disjointed predecessor enough give reference point here basic structure part one echoed back initial struggle battle fallen comrade recruiting replace see glimpse man behind movement yet anyone vaguest idea actual history behind feature know part two destined end much underwhelming disquieting note this difference combination similarity part one make compelling memorable whole mean could digested one kudos soderbergh achieving enjoyed taken one statement che delivers exactly set achieve br br indeed everything made part one treat one month prior still evident subtle yet engrossing performance central cast slow building realistically structured combat scene drama inherent character screen vague indiscernible feature part two prof avoiding element necessarily hurt film enough plot reflection element keep viewer engaged in fact upon writing review i odds whether simply add paragraph two initial review part one title review whole yet i felt would serve disillusion may sit watch entirety film consecutively br br with said i cannot rightfully decree whether che hold task engaging audience sprawling four hour plus runtime upon viewing segment i least attest part ability with reflective intricate screenplay combined endlessly mesmerising photography nuanced performance justice movie character without drawing attention che part two every bit compelling rewarding predecessor time tragic uplifting reaffirming conclusion fit history page film br br a review jamie robert ward http www invocus net',\n",
       " 'well since seeing part i honestly say never made part everything tacky i do mean tacky score really bad acting i dare anyone watch bored mind br br i mean part kept vibe strong plot damion without around one sure end part i getting little tired continued story line good closure end third one again reason part even could done much better job sh i sit lol there go hour half life never see',\n",
       " 'highly recommended br br a well written funny film appeal everyone sense humour give go good see independent british movie holding big established studio definitely worth adding film collection there scene film i sure lot people able relate you laugh loud antic enjoy great soundtrack i especially enjoyed orb version jimmy cliff vietnam the tower london take freebird br br go give go disappointed',\n",
       " 'ah noir my favourite genre otto preminger follow laura film noir set postwar new york corruption violence run rampant it star dana andrew sergeant mark dixon detective whose brutal tactic landed hot water superior br br when accidentally kill murder suspect dixon try pin blame crime bos tommy scalese dixon close achieving goal becomes involved dead man wife beautiful morgan taylor of course typical noir fashion thing quickly go hill br br while film nothing interesting camera narrative wise constant tone dread gloom like great noirs also wonderfully paced sucking viewer right start br br still like preminger workmanlike film something i watch it lack verbal wit wilder visual flamboyance hitchcock spatial experimentation welles like lang later work sidewalk feel much clone noir instead something really artistically genuine br br thematically film nothing special it cop find slowly becoming criminal in one scene dixon explains father small time crook film flirting notion predestination one scene far otto go dare take idea br br the camera work likewise disappointing there intelligence otto camera no effort made assign camera anything it play space architecture empahsise step step police procedural it tripod set ups occasional dolly meaningless though people care thing br br there however one good shot hero trapped car full gangster noir cage enters vehicle lift another cage taken chief gangster lair like lynch blue velvet otto retopologizes film constantly likens upstairs hell this work well set design fails reinforce br br otto seems content follow hawksian mould noir rather toy possibility noir go like detour night city scarlet street in a lonely place act violence bomberang johnny eager where sidewalk end one well made second tier film noirs it competent engaging lack extra special magic',\n",
       " 'even though movie came year i born definetely one favorite comedy it star redd foxx father try understand son homosexuality like parent know thing mean gay stereotypical notion gay people like his son norman grown living when father ben find son gay pay son visit hope changing the title come one funniest line movie ben get norman apartment run female prostitute think son drag norman is the movie laughing start finish redd foxx great although lot content stereotypical i find anything offensive way material handled even good ending highly recommended',\n",
       " 'this one best episode second season moh i think mick garris problem woman he kill em often victim screwfly solution pro life valerie stair i remember argento episode season etc obviously imprint i think enjoys watch woman burn torture mutilated i know never least right die one best good turn graphic scene suspense specially photo cell scene wonderful the acting like entire series regular i could worst like pro life we scream ice cream also i think plot could made movie episode the ideology series horrible killing terminating woman mutilating animal first season better second one episode like cigarrette burn the best homecoming the funny imprint really shocking']"
      ]
     },
     "execution_count": 16,
     "metadata": {},
     "output_type": "execute_result"
    }
   ],
   "source": [
    "processed_word[:10]"
   ]
  },
  {
   "cell_type": "code",
   "execution_count": 19,
   "metadata": {},
   "outputs": [],
   "source": [
    "vectorizer = TfidfVectorizer(max_features=100)"
   ]
  },
  {
   "cell_type": "code",
   "execution_count": 21,
   "metadata": {},
   "outputs": [
    {
     "data": {
      "text/plain": [
       "array([[0.        , 0.        , 0.        , ..., 0.        , 0.        ,\n",
       "        0.        ],\n",
       "       [0.        , 0.        , 0.        , ..., 0.        , 0.54161129,\n",
       "        0.        ],\n",
       "       [0.        , 0.        , 0.        , ..., 0.        , 0.        ,\n",
       "        0.        ],\n",
       "       ...,\n",
       "       [0.        , 0.        , 0.23633633, ..., 0.07840507, 0.        ,\n",
       "        0.        ],\n",
       "       [0.        , 0.21480213, 0.49627629, ..., 0.        , 0.        ,\n",
       "        0.        ],\n",
       "       [0.        , 0.        , 0.        , ..., 0.13337944, 0.0835458 ,\n",
       "        0.09940683]], shape=(250, 100))"
      ]
     },
     "execution_count": 21,
     "metadata": {},
     "output_type": "execute_result"
    }
   ],
   "source": [
    "X = vectorizer.fit_transform(processed_word).toarray()"
   ]
  },
  {
   "cell_type": "code",
   "execution_count": null,
   "metadata": {},
   "outputs": [],
   "source": []
  }
 ],
 "metadata": {
  "kernelspec": {
   "display_name": "venv",
   "language": "python",
   "name": "python3"
  },
  "language_info": {
   "codemirror_mode": {
    "name": "ipython",
    "version": 3
   },
   "file_extension": ".py",
   "mimetype": "text/x-python",
   "name": "python",
   "nbconvert_exporter": "python",
   "pygments_lexer": "ipython3",
   "version": "3.12.3"
  }
 },
 "nbformat": 4,
 "nbformat_minor": 2
}
