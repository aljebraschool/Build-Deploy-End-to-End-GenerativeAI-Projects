{
 "cells": [
  {
   "cell_type": "markdown",
   "metadata": {},
   "source": [
    "### Tokenization - Converting paragraph (corpus) into sentences (document)"
   ]
  },
  {
   "cell_type": "code",
   "execution_count": 1,
   "metadata": {},
   "outputs": [],
   "source": [
    "corpus = \"\"\"\n",
    "    Hello my name is Ridwan Ibidunni. I am a graduate of mathematics with a keen interest in developing AI applications\n",
    "    to solve problems in our environments. I love coding and teaching people how to code.\n",
    "\"\"\""
   ]
  },
  {
   "cell_type": "code",
   "execution_count": 2,
   "metadata": {},
   "outputs": [
    {
     "data": {
      "text/plain": [
       "str"
      ]
     },
     "execution_count": 2,
     "metadata": {},
     "output_type": "execute_result"
    }
   ],
   "source": [
    "type(corpus)"
   ]
  },
  {
   "cell_type": "code",
   "execution_count": 3,
   "metadata": {},
   "outputs": [
    {
     "name": "stdout",
     "output_type": "stream",
     "text": [
      "\n",
      "    Hello my name is Ridwan Ibidunni. I am a graduate of mathematics with a keen interest in developing AI applications\n",
      "    to solve problems in our environments. I love coding and teaching people how to code.\n",
      "\n"
     ]
    }
   ],
   "source": [
    "print(corpus)"
   ]
  },
  {
   "cell_type": "markdown",
   "metadata": {},
   "source": [
    "### Convert paragraph into sentence"
   ]
  },
  {
   "cell_type": "code",
   "execution_count": 4,
   "metadata": {},
   "outputs": [
    {
     "name": "stderr",
     "output_type": "stream",
     "text": [
      "[nltk_data] Downloading package punkt_tab to\n",
      "[nltk_data]     /home/aljebra/nltk_data...\n",
      "[nltk_data]   Package punkt_tab is already up-to-date!\n"
     ]
    },
    {
     "data": {
      "text/plain": [
       "True"
      ]
     },
     "execution_count": 4,
     "metadata": {},
     "output_type": "execute_result"
    }
   ],
   "source": [
    "import nltk # type: ignore\n",
    "# Download the 'punkt_tab' data package\n",
    "nltk.download('punkt_tab')"
   ]
  },
  {
   "cell_type": "code",
   "execution_count": 5,
   "metadata": {},
   "outputs": [],
   "source": [
    "from nltk import sent_tokenize\n",
    "document = sent_tokenize(corpus)"
   ]
  },
  {
   "cell_type": "code",
   "execution_count": 6,
   "metadata": {},
   "outputs": [
    {
     "data": {
      "text/plain": [
       "list"
      ]
     },
     "execution_count": 6,
     "metadata": {},
     "output_type": "execute_result"
    }
   ],
   "source": [
    "type(document)"
   ]
  },
  {
   "cell_type": "code",
   "execution_count": 7,
   "metadata": {},
   "outputs": [
    {
     "name": "stdout",
     "output_type": "stream",
     "text": [
      "\n",
      "    Hello my name is Ridwan Ibidunni.\n",
      "I am a graduate of mathematics with a keen interest in developing AI applications\n",
      "    to solve problems in our environments.\n",
      "I love coding and teaching people how to code.\n"
     ]
    }
   ],
   "source": [
    "for item in document:\n",
    "    print(item)"
   ]
  },
  {
   "cell_type": "markdown",
   "metadata": {},
   "source": [
    "### Tokenization - Convert paragraph into word. Also sentences into words"
   ]
  },
  {
   "cell_type": "code",
   "execution_count": 8,
   "metadata": {},
   "outputs": [
    {
     "data": {
      "text/plain": [
       "['Hello',\n",
       " 'my',\n",
       " 'name',\n",
       " 'is',\n",
       " 'Ridwan',\n",
       " 'Ibidunni',\n",
       " '.',\n",
       " 'I',\n",
       " 'am',\n",
       " 'a',\n",
       " 'graduate',\n",
       " 'of',\n",
       " 'mathematics',\n",
       " 'with',\n",
       " 'a',\n",
       " 'keen',\n",
       " 'interest',\n",
       " 'in',\n",
       " 'developing',\n",
       " 'AI',\n",
       " 'applications',\n",
       " 'to',\n",
       " 'solve',\n",
       " 'problems',\n",
       " 'in',\n",
       " 'our',\n",
       " 'environments',\n",
       " '.',\n",
       " 'I',\n",
       " 'love',\n",
       " 'coding',\n",
       " 'and',\n",
       " 'teaching',\n",
       " 'people',\n",
       " 'how',\n",
       " 'to',\n",
       " 'code',\n",
       " '.']"
      ]
     },
     "execution_count": 8,
     "metadata": {},
     "output_type": "execute_result"
    }
   ],
   "source": [
    "from nltk import word_tokenize\n",
    "\n",
    "#convert paragraph to word\n",
    "corpus_tokenized_word = word_tokenize(corpus)\n",
    "\n",
    "corpus_tokenized_word "
   ]
  },
  {
   "cell_type": "code",
   "execution_count": 9,
   "metadata": {},
   "outputs": [
    {
     "name": "stdout",
     "output_type": "stream",
     "text": [
      "['Hello', 'my', 'name', 'is', 'Ridwan', 'Ibidunni', '.']\n",
      "['I', 'am', 'a', 'graduate', 'of', 'mathematics', 'with', 'a', 'keen', 'interest', 'in', 'developing', 'AI', 'applications', 'to', 'solve', 'problems', 'in', 'our', 'environments', '.']\n",
      "['I', 'love', 'coding', 'and', 'teaching', 'people', 'how', 'to', 'code', '.']\n"
     ]
    }
   ],
   "source": [
    "#convert sentence to word\n",
    "for word in document:\n",
    "    print(word_tokenize(word))"
   ]
  },
  {
   "cell_type": "code",
   "execution_count": 10,
   "metadata": {},
   "outputs": [
    {
     "data": {
      "text/plain": [
       "['Hello',\n",
       " 'my',\n",
       " 'name',\n",
       " 'is',\n",
       " 'Ridwan',\n",
       " 'Ibidunni',\n",
       " '.',\n",
       " 'I',\n",
       " 'am',\n",
       " 'a',\n",
       " 'graduate',\n",
       " 'of',\n",
       " 'mathematics',\n",
       " 'with',\n",
       " 'a',\n",
       " 'keen',\n",
       " 'interest',\n",
       " 'in',\n",
       " 'developing',\n",
       " 'AI',\n",
       " 'applications',\n",
       " 'to',\n",
       " 'solve',\n",
       " 'problems',\n",
       " 'in',\n",
       " 'our',\n",
       " 'environments',\n",
       " '.',\n",
       " 'I',\n",
       " 'love',\n",
       " 'coding',\n",
       " 'and',\n",
       " 'teaching',\n",
       " 'people',\n",
       " 'how',\n",
       " 'to',\n",
       " 'code',\n",
       " '.']"
      ]
     },
     "execution_count": 10,
     "metadata": {},
     "output_type": "execute_result"
    }
   ],
   "source": [
    "#use this library to have more detailed separation of the puntuation\n",
    "from nltk import wordpunct_tokenize\n",
    "wordpunct_tokenize(corpus)"
   ]
  },
  {
   "cell_type": "code",
   "execution_count": null,
   "metadata": {},
   "outputs": [],
   "source": []
  },
  {
   "cell_type": "code",
   "execution_count": null,
   "metadata": {},
   "outputs": [],
   "source": []
  }
 ],
 "metadata": {
  "kernelspec": {
   "display_name": "venv",
   "language": "python",
   "name": "python3"
  },
  "language_info": {
   "codemirror_mode": {
    "name": "ipython",
    "version": 3
   },
   "file_extension": ".py",
   "mimetype": "text/x-python",
   "name": "python",
   "nbconvert_exporter": "python",
   "pygments_lexer": "ipython3",
   "version": "3.12.3"
  }
 },
 "nbformat": 4,
 "nbformat_minor": 2
}
