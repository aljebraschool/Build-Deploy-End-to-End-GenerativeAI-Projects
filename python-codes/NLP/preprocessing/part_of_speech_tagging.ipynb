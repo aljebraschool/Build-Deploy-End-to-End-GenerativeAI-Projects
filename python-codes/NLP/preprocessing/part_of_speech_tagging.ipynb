{
 "cells": [
  {
   "cell_type": "code",
   "execution_count": 12,
   "metadata": {},
   "outputs": [],
   "source": [
    "paragraph = \"\"\"\n",
    "I have three visions for India. In 3000 years of our history, people from all over  \n",
    "the world have come and invaded us, captured our lands, conquered our minds.  \n",
    "From Alexander onwards, the Greeks, the Turks, the Mughals, the Portuguese, the British,  \n",
    "the French, the Dutch, all of them came and looted us, took over what was ours.  \n",
    "Yet we have not done this to any other nation. We have not conquered anyone.  \n",
    "We have not grabbed their land, their culture, their history and tried to enforce our way of life on them.  \n",
    "Why? Because we respect the freedom of others. That is why my  \n",
    "first vision is that of freedom. I believe that India got its first vision of  \n",
    "this in 1857, when we started the War of Independence. It is this freedom that  \n",
    "we must protect and nurture and build on. If we are not free, no one will respect us.  \n",
    "\n",
    "My second vision for India’s development. For fifty years we have been a developing nation.  \n",
    "It is time we see ourselves as a developed nation. We are among the top 5 nations of the world  \n",
    "in terms of GDP. We have a 10 percent growth rate in most areas. Our poverty levels are falling.  \n",
    "Our achievements are being globally recognized today. Yet we lack the self-confidence to  \n",
    "see ourselves as a developed nation, self-reliant and self-assured. Isn’t this incorrect?  \n",
    "\n",
    "I have a third vision. India must stand up to the world. Because I believe that unless India  \n",
    "stands up to the world, no one will respect us. Only strength respects strength. We must be  \n",
    "strong not only as a military power but also as an economic power. Both must go hand-in-hand.  \n",
    "\n",
    "My good fortune was to have worked with three great minds. Dr. Vikram Sarabhai of the Dept. of  \n",
    "Space, Professor Satish Dhawan, who succeeded him and Dr. Brahm Prakash, father of nuclear material.  \n",
    "I was lucky to have worked with all three of them closely and consider this the great opportunity of my life.  \n",
    "I see four milestones in my career.  \n",
    "\n",
    "\"\"\""
   ]
  },
  {
   "cell_type": "code",
   "execution_count": 17,
   "metadata": {},
   "outputs": [],
   "source": [
    "import nltk\n",
    "from nltk import word_tokenize, sent_tokenize, pos_tag\n",
    "from nltk.corpus import stopwords"
   ]
  },
  {
   "cell_type": "code",
   "execution_count": 14,
   "metadata": {},
   "outputs": [],
   "source": [
    "sentence_tokenization = sent_tokenize(paragraph)"
   ]
  },
  {
   "cell_type": "code",
   "execution_count": 15,
   "metadata": {},
   "outputs": [
    {
     "data": {
      "text/plain": [
       "'\\n\\n\\nPART OF SPEECH TAGS\\n\\n\"CC coordinating conjunction \\n\",\\n    \"CD cardinal digit \\n\",\\n    \"DT determiner \\n\",\\n    \"EX existential there (like: “there is” … think of it like “there exists”) \\n\",\\n    \"FW foreign word \\n\",\\n    \"IN preposition/subordinating conjunction \\n\",\\n    \"JJ adjective – ‘big’ \\n\",\\n    \"JJR adjective, comparative – ‘bigger’ \\n\",\\n    \"JJS adjective, superlative – ‘biggest’ \\n\",\\n    \"LS list marker 1) \\n\",\\n    \"MD modal – could, will \\n\",\\n    \"NN noun, singular ‘- desk’ \\n\",\\n    \"NNS noun plural – ‘desks’ \\n\",\\n    \"NNP proper noun, singular – ‘Harrison’ \\n\",\\n    \"NNPS proper noun, plural – ‘Americans’ \\n\",\\n    \"PDT predeterminer – ‘all the kids’ \\n\",\\n    \"POS possessive ending parent’s \\n\",\\n    \"PRP personal pronoun –  I, he, she \\n\",\\n    \"PRP$ possessive pronoun – my, his, hers \\n\",\\n    \"RB adverb – very, silently, \\n\",\\n    \"RBR adverb, comparative – better \\n\",\\n    \"RBS adverb, superlative – best \\n\",\\n    \"RP particle – give up \\n\",\\n    \"TO – to go ‘to’ the store. \\n\",\\n    \"UH interjection – errrrrrrrm \\n\",\\n    \"VB verb, base form – take \\n\",\\n    \"VBD verb, past tense – took \\n\",\\n    \"VBG verb, gerund/present participle – taking \\n\",\\n    \"VBN verb, past participle – taken \\n\",\\n    \"VBP verb, sing. present, non-3d – take \\n\",\\n    \"VBZ verb, 3rd person sing. present – takes \\n\",\\n    \"WDT wh-determiner – which \\n\",\\n    \"WP wh-pronoun – who, what \\n\",\\n    \"WP$ possessive wh-pronoun, eg- whose \\n\",\\n    \"WRB wh-adverb, eg- where, when\"\\n\\n\\n'"
      ]
     },
     "execution_count": 15,
     "metadata": {},
     "output_type": "execute_result"
    }
   ],
   "source": [
    "\"\"\"\n",
    "\n",
    "\n",
    "PART OF SPEECH TAGS\n",
    "\n",
    "\"CC coordinating conjunction \\n\",\n",
    "    \"CD cardinal digit \\n\",\n",
    "    \"DT determiner \\n\",\n",
    "    \"EX existential there (like: “there is” … think of it like “there exists”) \\n\",\n",
    "    \"FW foreign word \\n\",\n",
    "    \"IN preposition/subordinating conjunction \\n\",\n",
    "    \"JJ adjective – ‘big’ \\n\",\n",
    "    \"JJR adjective, comparative – ‘bigger’ \\n\",\n",
    "    \"JJS adjective, superlative – ‘biggest’ \\n\",\n",
    "    \"LS list marker 1) \\n\",\n",
    "    \"MD modal – could, will \\n\",\n",
    "    \"NN noun, singular ‘- desk’ \\n\",\n",
    "    \"NNS noun plural – ‘desks’ \\n\",\n",
    "    \"NNP proper noun, singular – ‘Harrison’ \\n\",\n",
    "    \"NNPS proper noun, plural – ‘Americans’ \\n\",\n",
    "    \"PDT predeterminer – ‘all the kids’ \\n\",\n",
    "    \"POS possessive ending parent’s \\n\",\n",
    "    \"PRP personal pronoun –  I, he, she \\n\",\n",
    "    \"PRP$ possessive pronoun – my, his, hers \\n\",\n",
    "    \"RB adverb – very, silently, \\n\",\n",
    "    \"RBR adverb, comparative – better \\n\",\n",
    "    \"RBS adverb, superlative – best \\n\",\n",
    "    \"RP particle – give up \\n\",\n",
    "    \"TO – to go ‘to’ the store. \\n\",\n",
    "    \"UH interjection – errrrrrrrm \\n\",\n",
    "    \"VB verb, base form – take \\n\",\n",
    "    \"VBD verb, past tense – took \\n\",\n",
    "    \"VBG verb, gerund/present participle – taking \\n\",\n",
    "    \"VBN verb, past participle – taken \\n\",\n",
    "    \"VBP verb, sing. present, non-3d – take \\n\",\n",
    "    \"VBZ verb, 3rd person sing. present – takes \\n\",\n",
    "    \"WDT wh-determiner – which \\n\",\n",
    "    \"WP wh-pronoun – who, what \\n\",\n",
    "    \"WP$ possessive wh-pronoun, eg- whose \\n\",\n",
    "    \"WRB wh-adverb, eg- where, when\"\n",
    "\n",
    "\n",
    "\"\"\""
   ]
  },
  {
   "cell_type": "code",
   "execution_count": 18,
   "metadata": {},
   "outputs": [
    {
     "name": "stdout",
     "output_type": "stream",
     "text": [
      "[('I', 'PRP'), ('three', 'CD'), ('visions', 'NNS'), ('India', 'NNP'), ('.', '.')]\n",
      "[('In', 'IN'), ('3000', 'CD'), ('years', 'NNS'), ('history', 'NN'), (',', ','), ('people', 'NNS'), ('world', 'NN'), ('come', 'VBP'), ('invaded', 'VBN'), ('us', 'PRP'), (',', ','), ('captured', 'VBD'), ('lands', 'NNS'), (',', ','), ('conquered', 'VBD'), ('minds', 'NNS'), ('.', '.')]\n",
      "[('From', 'IN'), ('Alexander', 'NNP'), ('onwards', 'NNS'), (',', ','), ('Greeks', 'NNP'), (',', ','), ('Turks', 'NNP'), (',', ','), ('Mughals', 'NNP'), (',', ','), ('Portuguese', 'NNP'), (',', ','), ('British', 'NNP'), (',', ','), ('French', 'NNP'), (',', ','), ('Dutch', 'NNP'), (',', ','), ('came', 'VBD'), ('looted', 'JJ'), ('us', 'PRP'), (',', ','), ('took', 'VBD'), ('.', '.')]\n",
      "[('Yet', 'RB'), ('done', 'VBN'), ('nation', 'NN'), ('.', '.')]\n",
      "[('We', 'PRP'), ('conquered', 'VBD'), ('anyone', 'NN'), ('.', '.')]\n",
      "[('We', 'PRP'), ('grabbed', 'VBD'), ('land', 'NN'), (',', ','), ('culture', 'NN'), (',', ','), ('history', 'NN'), ('tried', 'VBD'), ('enforce', 'JJ'), ('way', 'NN'), ('life', 'NN'), ('.', '.')]\n",
      "[('Why', 'WRB'), ('?', '.')]\n",
      "[('Because', 'IN'), ('respect', 'NN'), ('freedom', 'NN'), ('others', 'NNS'), ('.', '.')]\n",
      "[('That', 'DT'), ('first', 'JJ'), ('vision', 'NN'), ('freedom', 'NN'), ('.', '.')]\n",
      "[('I', 'PRP'), ('believe', 'VBP'), ('India', 'NNP'), ('got', 'VBD'), ('first', 'JJ'), ('vision', 'NN'), ('1857', 'CD'), (',', ','), ('started', 'VBD'), ('War', 'NNP'), ('Independence', 'NNP'), ('.', '.')]\n",
      "[('It', 'PRP'), ('freedom', 'NN'), ('must', 'MD'), ('protect', 'VB'), ('nurture', 'NN'), ('build', 'NN'), ('.', '.')]\n",
      "[('If', 'IN'), ('free', 'JJ'), (',', ','), ('one', 'CD'), ('respect', 'NN'), ('us', 'PRP'), ('.', '.')]\n",
      "[('My', 'PRP$'), ('second', 'JJ'), ('vision', 'NN'), ('India', 'NNP'), ('’', 'NNP'), ('development', 'NN'), ('.', '.')]\n",
      "[('For', 'IN'), ('fifty', 'JJ'), ('years', 'NNS'), ('developing', 'VBG'), ('nation', 'NN'), ('.', '.')]\n",
      "[('It', 'PRP'), ('time', 'NN'), ('see', 'VB'), ('developed', 'JJ'), ('nation', 'NN'), ('.', '.')]\n",
      "[('We', 'PRP'), ('among', 'IN'), ('top', 'JJ'), ('5', 'CD'), ('nations', 'NNS'), ('world', 'NN'), ('terms', 'NNS'), ('GDP', 'NNP'), ('.', '.')]\n",
      "[('We', 'PRP'), ('10', 'CD'), ('percent', 'JJ'), ('growth', 'NN'), ('rate', 'NN'), ('areas', 'NNS'), ('.', '.')]\n",
      "[('Our', 'PRP$'), ('poverty', 'NN'), ('levels', 'NNS'), ('falling', 'VBG'), ('.', '.')]\n",
      "[('Our', 'PRP$'), ('achievements', 'NNS'), ('globally', 'RB'), ('recognized', 'VBN'), ('today', 'NN'), ('.', '.')]\n",
      "[('Yet', 'RB'), ('lack', 'JJ'), ('self-confidence', 'NN'), ('see', 'NN'), ('developed', 'JJ'), ('nation', 'NN'), (',', ','), ('self-reliant', 'JJ'), ('self-assured', 'JJ'), ('.', '.')]\n",
      "[('Isn', 'NNP'), ('’', 'NNP'), ('incorrect', 'NN'), ('?', '.')]\n",
      "[('I', 'PRP'), ('third', 'JJ'), ('vision', 'NN'), ('.', '.')]\n",
      "[('India', 'NNP'), ('must', 'MD'), ('stand', 'VB'), ('world', 'NN'), ('.', '.')]\n",
      "[('Because', 'IN'), ('I', 'PRP'), ('believe', 'VBP'), ('unless', 'IN'), ('India', 'NNP'), ('stands', 'VBZ'), ('world', 'NN'), (',', ','), ('one', 'CD'), ('respect', 'NN'), ('us', 'PRP'), ('.', '.')]\n",
      "[('Only', 'RB'), ('strength', 'NN'), ('respects', 'NNS'), ('strength', 'NN'), ('.', '.')]\n",
      "[('We', 'PRP'), ('must', 'MD'), ('strong', 'JJ'), ('military', 'JJ'), ('power', 'NN'), ('also', 'RB'), ('economic', 'JJ'), ('power', 'NN'), ('.', '.')]\n",
      "[('Both', 'DT'), ('must', 'MD'), ('go', 'VB'), ('hand-in-hand', 'NN'), ('.', '.')]\n",
      "[('My', 'PRP$'), ('good', 'JJ'), ('fortune', 'NN'), ('worked', 'VBD'), ('three', 'CD'), ('great', 'JJ'), ('minds', 'NNS'), ('.', '.')]\n",
      "[('Dr.', 'NNP'), ('Vikram', 'NNP'), ('Sarabhai', 'NNP'), ('Dept', 'NNP'), ('.', '.')]\n",
      "[('Space', 'NNP'), (',', ','), ('Professor', 'NNP'), ('Satish', 'NNP'), ('Dhawan', 'NNP'), (',', ','), ('succeeded', 'VBD'), ('Dr.', 'NNP'), ('Brahm', 'NNP'), ('Prakash', 'NNP'), (',', ','), ('father', 'RB'), ('nuclear', 'JJ'), ('material', 'NN'), ('.', '.')]\n",
      "[('I', 'PRP'), ('lucky', 'VBP'), ('worked', 'VBD'), ('three', 'CD'), ('closely', 'RB'), ('consider', 'VBP'), ('great', 'JJ'), ('opportunity', 'NN'), ('life', 'NN'), ('.', '.')]\n",
      "[('I', 'PRP'), ('see', 'VBP'), ('four', 'CD'), ('milestones', 'NNS'), ('career', 'NN'), ('.', '.')]\n"
     ]
    }
   ],
   "source": [
    "for sentence in sentence_tokenization:\n",
    "    tokenized_word = word_tokenize(sentence)\n",
    "    word = [word for word in tokenized_word if word not in set(stopwords.words('english'))]\n",
    "    word_tag = pos_tag(word)\n",
    "    print(word_tag)\n",
    "    "
   ]
  },
  {
   "cell_type": "code",
   "execution_count": 19,
   "metadata": {},
   "outputs": [
    {
     "name": "stdout",
     "output_type": "stream",
     "text": [
      "[('Tag', 'NNP'), ('Mahal', 'NNP'), ('is', 'VBZ'), ('a', 'DT'), ('beautiful', 'JJ'), ('Monumental', 'NN')]\n"
     ]
    }
   ],
   "source": [
    "word = \"Tag Mahal is a beautiful Monumental\"\n",
    "\n",
    "for item in word:\n",
    "    tokenized_word = word_tokenize(word)\n",
    "    tagged_word = pos_tag(tokenized_word)\n",
    "print(tagged_word)\n"
   ]
  },
  {
   "cell_type": "code",
   "execution_count": null,
   "metadata": {},
   "outputs": [],
   "source": []
  }
 ],
 "metadata": {
  "kernelspec": {
   "display_name": "venv",
   "language": "python",
   "name": "python3"
  },
  "language_info": {
   "codemirror_mode": {
    "name": "ipython",
    "version": 3
   },
   "file_extension": ".py",
   "mimetype": "text/x-python",
   "name": "python",
   "nbconvert_exporter": "python",
   "pygments_lexer": "ipython3",
   "version": "3.12.3"
  }
 },
 "nbformat": 4,
 "nbformat_minor": 2
}
