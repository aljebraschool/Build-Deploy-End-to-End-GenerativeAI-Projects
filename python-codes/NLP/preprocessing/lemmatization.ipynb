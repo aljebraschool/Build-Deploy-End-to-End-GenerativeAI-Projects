{
 "cells": [
  {
   "cell_type": "code",
   "execution_count": 5,
   "metadata": {},
   "outputs": [
    {
     "name": "stderr",
     "output_type": "stream",
     "text": [
      "[nltk_data] Downloading package wordnet to /home/aljebra/nltk_data...\n",
      "[nltk_data]   Package wordnet is already up-to-date!\n"
     ]
    },
    {
     "data": {
      "text/plain": [
       "True"
      ]
     },
     "execution_count": 5,
     "metadata": {},
     "output_type": "execute_result"
    }
   ],
   "source": [
    "import nltk\n",
    "nltk.download('wordnet')"
   ]
  },
  {
   "cell_type": "code",
   "execution_count": 6,
   "metadata": {},
   "outputs": [],
   "source": [
    "from nltk.stem import WordNetLemmatizer\n",
    "\n",
    "lemmatizer = WordNetLemmatizer()"
   ]
  },
  {
   "cell_type": "code",
   "execution_count": 7,
   "metadata": {},
   "outputs": [
    {
     "data": {
      "text/plain": [
       "'go'"
      ]
     },
     "execution_count": 7,
     "metadata": {},
     "output_type": "execute_result"
    }
   ],
   "source": [
    "lemmatizer.lemmatize('going', pos = 'v')"
   ]
  },
  {
   "cell_type": "code",
   "execution_count": 8,
   "metadata": {},
   "outputs": [
    {
     "data": {
      "text/plain": [
       "'going'"
      ]
     },
     "execution_count": 8,
     "metadata": {},
     "output_type": "execute_result"
    }
   ],
   "source": [
    "lemmatizer.lemmatize('going')"
   ]
  },
  {
   "cell_type": "code",
   "execution_count": 9,
   "metadata": {},
   "outputs": [],
   "source": [
    "words = [\"eats\", 'eaten', 'eating', 'writes', 'wrote', 'writen', 'go', 'goes', 'going', 'programming', 'program', 'history', 'finally', 'final', 'congratulate']"
   ]
  },
  {
   "cell_type": "code",
   "execution_count": 10,
   "metadata": {},
   "outputs": [
    {
     "name": "stdout",
     "output_type": "stream",
     "text": [
      "eats ----> eats\n",
      "eaten ----> eaten\n",
      "eating ----> eating\n",
      "writes ----> writes\n",
      "wrote ----> wrote\n",
      "writen ----> writen\n",
      "go ----> go\n",
      "goes ----> go\n",
      "going ----> going\n",
      "programming ----> programming\n",
      "program ----> program\n",
      "history ----> history\n",
      "finally ----> finally\n",
      "final ----> final\n",
      "congratulate ----> congratulate\n"
     ]
    }
   ],
   "source": [
    "for word in words:\n",
    "    print(word + \" ----> \" + lemmatizer.lemmatize(word))"
   ]
  },
  {
   "cell_type": "code",
   "execution_count": 11,
   "metadata": {},
   "outputs": [
    {
     "name": "stdout",
     "output_type": "stream",
     "text": [
      "eats ----> eat\n",
      "eaten ----> eat\n",
      "eating ----> eat\n",
      "writes ----> write\n",
      "wrote ----> write\n",
      "writen ----> writen\n",
      "go ----> go\n",
      "goes ----> go\n",
      "going ----> go\n",
      "programming ----> program\n",
      "program ----> program\n",
      "history ----> history\n",
      "finally ----> finally\n",
      "final ----> final\n",
      "congratulate ----> congratulate\n"
     ]
    }
   ],
   "source": [
    "'''\n",
    "POS - Part of speech tag\n",
    "Verb - v\n",
    "None - n\n",
    "Adjective - a\n",
    "Adverb = r\n",
    "'''\n",
    "\n",
    "for word in words:\n",
    "    print(word + \" ----> \" + lemmatizer.lemmatize(word, pos='v'))"
   ]
  },
  {
   "cell_type": "code",
   "execution_count": 12,
   "metadata": {},
   "outputs": [
    {
     "data": {
      "text/plain": [
       "('fairly', 'sportingly')"
      ]
     },
     "execution_count": 12,
     "metadata": {},
     "output_type": "execute_result"
    }
   ],
   "source": [
    "lemmatizer.lemmatize('fairly', pos = 'v'), lemmatizer.lemmatize('sportingly', 'v')"
   ]
  },
  {
   "cell_type": "code",
   "execution_count": null,
   "metadata": {},
   "outputs": [],
   "source": []
  }
 ],
 "metadata": {
  "kernelspec": {
   "display_name": "venv",
   "language": "python",
   "name": "python3"
  },
  "language_info": {
   "codemirror_mode": {
    "name": "ipython",
    "version": 3
   },
   "file_extension": ".py",
   "mimetype": "text/x-python",
   "name": "python",
   "nbconvert_exporter": "python",
   "pygments_lexer": "ipython3",
   "version": "3.12.3"
  }
 },
 "nbformat": 4,
 "nbformat_minor": 2
}
